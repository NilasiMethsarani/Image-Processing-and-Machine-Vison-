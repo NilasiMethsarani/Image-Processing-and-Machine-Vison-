import cv2
import numpy as np
import matplotlib.pyplot as plt

# Define the transformation function
c = np.array([(50, 50), (50, 100), 
              (150, 255), (150, 150), (255, 255)])

t1 = np.linspace(0, c[0, 1], c[0, 0] + 1 - 0).astype('uint8')
t2 = np.linspace(c[0, 1] + 1, c[1, 1], c[1, 0] - c[0, 0]).astype('uint8')
t3 = np.linspace(c[1, 1] + 1, c[2, 1], c[2, 0] - c[1, 0]).astype('uint8')
t4 = np.linspace(c[2, 1] + 1, c[3, 1], c[3, 0] - c[2, 0]).astype('uint8')
t5 = np.linspace(c[3, 1] + 1, c[4, 1], c[4, 0] - c[3, 0]).astype('uint8')

transform = np.concatenate((t1, t2), axis=0).astype('uint8')
transform = np.concatenate((transform, t3), axis=0).astype('uint8')
transform = np.concatenate((transform, t4), axis=0).astype('uint8')
transform = np.concatenate((transform, t5), axis=0).astype('uint8')

# Load the original image
img_orig = cv2.imread(r"C:\Users\User\Documents\Assignments\emma.jpg", cv2.IMREAD_GRAYSCALE)

# Apply the transformation to the image
image_transformed = cv2.LUT(img_orig, transform)

# Display the transformation plot
fig, ax = plt.subplots()
ax.plot(transform)
ax.set_xlabel(r'Input, $f(\mathbf{x})$')
ax.set_ylabel('Output, $\mathrm{T}[f(\mathbf{x})]$')
ax.set_xlim(0, 255)
ax.set_ylim(0, 255)
ax.set_aspect('equal')
plt.savefig('transform.png')
plt.show()

# Display the original and transformed images using Matplotlib
fig, axs = plt.subplots(1, 2, figsize=(12, 6))

axs[0].imshow(img_orig, cmap='gray')
axs[0].set_title('Original Image')
axs[0].axis('off')

axs[1].imshow(image_transformed, cmap='gray')
axs[1].set_title('Transformed Image')
axs[1].axis('off')

plt.tight_layout()
plt.show()
