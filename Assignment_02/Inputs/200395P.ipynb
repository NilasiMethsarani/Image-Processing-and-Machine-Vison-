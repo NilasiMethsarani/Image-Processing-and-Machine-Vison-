{
 "cells": [
  {
   "cell_type": "markdown",
   "id": "46ee650d",
   "metadata": {},
   "source": [
    "**Name: Methsarani H.E.N.**\n",
    "\n",
    "**Index: 200395P**"
   ]
  },
  {
   "cell_type": "markdown",
   "id": "f4f46821",
   "metadata": {},
   "source": [
    "**Detecting and Analyzing Circles in an Image using Blob Detection**"
   ]
  },
  {
   "cell_type": "code",
   "execution_count": null,
   "id": "fd6744ed",
   "metadata": {},
   "outputs": [],
   "source": [
    "import cv2 as cv\n",
    "import numpy as np\n",
    "from skimage.feature import blob_log\n",
    "from math import sqrt\n",
    "import matplotlib.pyplot as plt\n",
    "\n",
    "# Load the image\n",
    "image = cv.imread('images/the_berry_farms_sunflower_field.jpeg', cv.IMREAD_REDUCED_COLOR_4)\n",
    "\n",
    "# Convert the image to grayscale\n",
    "gray_image = cv.cvtColor(image, cv.COLOR_BGR2GRAY)\n",
    "\n",
    "# Apply Gaussian blur to reduce noise\n",
    "blurred_image = cv.GaussianBlur(gray_image, (9, 9), 0.5)\n",
    "\n",
    "# Define parameters for blob detection\n",
    "min_sigma = 3\n",
    "max_sigma = 30\n",
    "threshold = 0.05\n",
    "\n",
    "# Detect blobs using Laplacian of Gaussians\n",
    "detected_blobs = blob_log(blurred_image, min_sigma=min_sigma, max_sigma=max_sigma, threshold=threshold)\n",
    "detected_blobs[:, 2] = detected_blobs[:, 2] * sqrt(2)\n",
    "\n",
    "# Find the largest detected circle\n",
    "max_radius_index = np.argmax(detected_blobs[:, 2])\n",
    "largest_circle_params = detected_blobs[max_radius_index]\n",
    "largest_radius = largest_circle_params[2]\n",
    "print(f\"Largest Circle Radius (r): {largest_radius}\")\n",
    "\n",
    "# Create a copy of the grayscale image to draw circles on\n",
    "circled_image = gray_image.copy()\n",
    "\n",
    "# Draw circles on the circled_image\n",
    "for blob in detected_blobs:\n",
    "    y, x, r = blob  # Note: Blob format is (y, x, r)\n",
    "    center = (int(x), int(y))\n",
    "    radius = int(r)\n",
    "    cv.circle(circled_image, center, radius, (255, 255, 0), 1)  # Draw circles in white\n",
    "\n",
    "# Display the original and circled images using Matplotlib\n",
    "plt.figure(figsize=(12, 6))\n",
    "\n",
    "# Original image\n",
    "plt.subplot(1, 2, 1)\n",
    "plt.title(\"Original Image\")\n",
    "plt.imshow(cv.cvtColor(image, cv.COLOR_BGR2RGB))\n",
    "plt.axis('off')\n",
    "\n",
    "# Circled image\n",
    "plt.subplot(1, 2, 2)\n",
    "plt.title(\"Circled Image\")\n",
    "plt.imshow(circled_image, cmap='gray')\n",
    "plt.axis('off')\n",
    "\n",
    "plt.tight_layout()\n",
    "plt.show()\n"
   ]
  },
  {
   "cell_type": "code",
   "execution_count": null,
   "id": "b4252c73-b1c8-4bef-bc7b-165a60157363",
   "metadata": {},
   "outputs": [],
   "source": []
  },
  {
   "cell_type": "code",
   "execution_count": null,
   "id": "5c753aac-f1f6-41f1-b73e-b91c4c1f1902",
   "metadata": {},
   "outputs": [],
   "source": []
  }
 ],
 "metadata": {
  "kernelspec": {
   "display_name": "Python 3 (ipykernel)",
   "language": "python",
   "name": "python3"
  },
  "language_info": {
   "codemirror_mode": {
    "name": "ipython",
    "version": 3
   },
   "file_extension": ".py",
   "mimetype": "text/x-python",
   "name": "python",
   "nbconvert_exporter": "python",
   "pygments_lexer": "ipython3",
   "version": "3.9.5"
  }
 },
 "nbformat": 4,
 "nbformat_minor": 5
}
